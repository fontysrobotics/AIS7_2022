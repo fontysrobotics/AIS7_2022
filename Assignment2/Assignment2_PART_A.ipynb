{
  "cells": [
    {
      "cell_type": "markdown",
      "metadata": {
        "id": "7ipnWvssmbh7"
      },
      "source": [
        "# Fasion-MNIST classification \n",
        "\n",
        "In this Assignment you are going to classify a fashion dataset.\n",
        "\n",
        "[Fashion-MNIST](https://github.com/zalandoresearch/fashion-mnist) is a dataset of Zalando's article images—consisting of a training set of 60,000 examples and a test set of 10,000 examples. Each example is a 28x28 grayscale image, associated with a label from 10 classes. We intend Fashion-MNIST to serve as a direct drop-in replacement for the original MNIST dataset for benchmarking machine learning algorithms. It shares the same image size and structure of training and testing splits.\n",
        "\n",
        "![](https://www.tensorflow.org/static/tutorials/keras/classification_files/output_oZTImqg_CaW1_0.png)\n"
      ]
    },
    {
      "cell_type": "code",
      "execution_count": null,
      "metadata": {
        "id": "6jP0xrK5uqWp"
      },
      "outputs": [],
      "source": [
        "# INSERT YOUR NAMES "
      ]
    },
    {
      "cell_type": "markdown",
      "metadata": {
        "id": "OOH78U5DpU5k"
      },
      "source": [
        "# Initialization\n",
        "\n",
        "load all needed libraries and functions, \n",
        "check the previos tutorial how to correctly load keras and other modules"
      ]
    },
    {
      "cell_type": "code",
      "execution_count": null,
      "metadata": {
        "id": "Of4Qf_7DpXOS"
      },
      "outputs": [],
      "source": []
    },
    {
      "cell_type": "markdown",
      "metadata": {
        "id": "yWrbNzmtuhKG"
      },
      "source": [
        "# Load dataset & Plot a subset\n",
        "\n",
        "load your dataset and show a plot of the subset of your data"
      ]
    },
    {
      "cell_type": "code",
      "execution_count": null,
      "metadata": {
        "id": "kTZNxjTkul9u"
      },
      "outputs": [],
      "source": []
    },
    {
      "cell_type": "markdown",
      "metadata": {
        "id": "O-P5qhvGumPu"
      },
      "source": [
        "# Prepare Data\n",
        "\n",
        "pre-process your raw input data... rescale... normalize...."
      ]
    },
    {
      "cell_type": "code",
      "execution_count": null,
      "metadata": {
        "id": "Z1u8MMVYupNb"
      },
      "outputs": [],
      "source": []
    },
    {
      "cell_type": "markdown",
      "metadata": {
        "id": "Yal9uYElv_nU"
      },
      "source": [
        "## Define your Model\n",
        "\n",
        "Define your neural network architecture here\n",
        "\n",
        "* Describe the implemented network architecture.\n",
        "* How many parameters does this network have, and where in the network are these located?"
      ]
    },
    {
      "cell_type": "code",
      "execution_count": null,
      "metadata": {
        "id": "HZTFT_GJv_3N"
      },
      "outputs": [],
      "source": []
    },
    {
      "cell_type": "markdown",
      "metadata": {
        "id": "t5t5_38HupW3"
      },
      "source": [
        "# Fit the Model\n",
        "\n",
        "Fitting the model is the time consuming part, this depend on the complexity of the model and the amount of training data.\n",
        "In the fitting process the model is first build up in memory with all the tunable parameters and intercomnnects (with random start values). This is also the limitation of some systems, all these parameters are stored in memory (or when not fitting in a swap file)\n",
        "\n",
        "**TIP:** do not start the first time with training a lot of epochs, first see if this and all following steps in your system work and when you are sure that all works train your final model. You can also monitor the Jetson CPU/GPU/Memory performance during this process (see Tips & Tricks)\n",
        "\n",
        "* Explain what hyperparameters are available and what they do.\n",
        "* Which hyperparameter result in better training results?"
      ]
    },
    {
      "cell_type": "code",
      "execution_count": null,
      "metadata": {
        "id": "rycO-mp9uscG"
      },
      "outputs": [],
      "source": []
    },
    {
      "cell_type": "markdown",
      "metadata": {
        "id": "WdzrdzNeusno"
      },
      "source": [
        "# Evaluate Model\n",
        "\n",
        "Show the model accuracy after the training process ...\n",
        "* What is the final accuracy of the trained Network?"
      ]
    },
    {
      "cell_type": "code",
      "execution_count": null,
      "metadata": {
        "id": "7Vk7p7YnuvR_"
      },
      "outputs": [],
      "source": []
    },
    {
      "cell_type": "markdown",
      "metadata": {
        "id": "l8a1ovA8uyMX"
      },
      "source": [
        "# Save model\n",
        "\n",
        "Save the model for later usage"
      ]
    },
    {
      "cell_type": "code",
      "execution_count": null,
      "metadata": {
        "id": "quPWuPwtu3s4"
      },
      "outputs": [],
      "source": []
    },
    {
      "cell_type": "markdown",
      "metadata": {
        "id": "BbK5-OQ4u32A"
      },
      "source": [
        "# Evaluate Final Model\n",
        "\n",
        "After training and saving the model you can deploy this model on any given input image. You can start a new application in where you import this model and apply it on any given imput images, so you can just load the model and don't need the timeconsuming training anymore."
      ]
    },
    {
      "cell_type": "code",
      "execution_count": null,
      "metadata": {
        "id": "zy3j_jLn4I6u"
      },
      "outputs": [],
      "source": []
    },
    {
      "cell_type": "markdown",
      "metadata": {
        "id": "uqEeHGjG3fsd"
      },
      "source": [
        "## Make Prediction\n",
        "\n",
        "We can use our saved model to make a prediction on new images that are not trained on... make sure the input images receive the same pre-processing as the images you trained on.\n",
        "\n",
        "So fetch some images from the internet (similar classes, but not from your dataset), prepare them to fit your network and classify them. Do this for  **10 images per class** and show the results!\n",
        "\n",
        "* How good is the detection on you real dataset? (show some statistics) "
      ]
    },
    {
      "cell_type": "code",
      "execution_count": null,
      "metadata": {
        "id": "cNpwYE5Ru8gn"
      },
      "outputs": [],
      "source": []
    },
    {
      "cell_type": "markdown",
      "metadata": {
        "id": "Cf-L0WA7uqWu"
      },
      "source": [
        "## Additional Questions\n",
        "* In which way could the network accuracy be improved further (only explanation, no implementation)?"
      ]
    },
    {
      "cell_type": "markdown",
      "source": [],
      "metadata": {
        "id": "Pt5pspww72l9"
      }
    }
  ],
  "metadata": {
    "colab": {
      "private_outputs": true,
      "provenance": []
    },
    "kernelspec": {
      "display_name": "Python 3 (ipykernel)",
      "language": "python",
      "name": "python3"
    },
    "language_info": {
      "codemirror_mode": {
        "name": "ipython",
        "version": 3
      },
      "file_extension": ".py",
      "mimetype": "text/x-python",
      "name": "python",
      "nbconvert_exporter": "python",
      "pygments_lexer": "ipython3",
      "version": "3.9.7"
    },
    "gpuClass": "standard"
  },
  "nbformat": 4,
  "nbformat_minor": 0
}