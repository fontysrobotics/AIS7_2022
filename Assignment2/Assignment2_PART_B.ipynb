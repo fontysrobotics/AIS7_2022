{
 "cells": [
  {
   "cell_type": "markdown",
   "metadata": {
    "id": "7ipnWvssmbh7"
   },
   "source": [
    "# Convolutional Neural Networks for image classification \n",
    "\n",
    "In this assignment you will create your own Convolutional Neural Networks (CNN) model.  You should train the network so that it use at least 3 classes and  at most 10 classes where your dataset should have at least 1500 images per class.\n",
    "\n",
    "> **Be aware:** Advanced neural networks are often trained on high performance (super) computers. our hardware is limited in memory and performance, and more suited for deployment of these kind of networks then for training. But this doesn't mean we can't train on it, we should only be aware that if we want better results and more complex networks you should consider more advanced hardware. \n",
    "\n",
    "\n",
    "There are several datasets available that are usable for image classification, one of them is the cifar10 dataset, which has 6000 images per class. The [Cifar10](https://www.cs.toronto.edu/~kriz/cifar.html) dataset, classifies objects like cats, cars, airplanes, etc.\n",
    "\n",
    "![](https://production-media.paperswithcode.com/datasets/4fdf2b82-2bc3-4f97-ba51-400322b228b1.png)\n",
    "<!--\n",
    "![](https://www.researchgate.net/profile/Robert-Kozma/publication/329109238/figure/fig2/AS:708896771551232@1546025569617/Examples-of-CIFAR-10-images-with-10-classes-10-examples-for-each-class_Q640.jpg)\n",
    "-->\n",
    "\n",
    "\n",
    "The [Cifar100](https://www.cs.toronto.edu/~kriz/cifar.html) dataset\n",
    "is just like the CIFAR-10, except it has 100 classes containing 600 images each. There are 500 training images and 100 testing images per class. The 100 classes in the CIFAR-100 are grouped into 20 superclasses. Each image comes with a \"fine\" label (the class to which it belongs) and a \"coarse\" label (the superclass to which it belongs).\n",
    "\n",
    "Other wideley used datasets are https://www.image-net.org/ or https://cocodataset.org/\n",
    "\n",
    "\n",
    "<ins>**You can use these datasets but are also allowed to find your own dataset or to even create your own custom dataset.**</ins>\n",
    "\n",
    "\n",
    "\n",
    "Use the following website that takes you trought all the steps of development.\n",
    "https://machinelearningmastery.com/how-to-develop-a-cnn-from-scratch-for-cifar-10-photo-classification/\n",
    "\n",
    "For this assignment: \n",
    "\n",
    "* You should use at least 3 classes and at most 10 classes where such dataset should have at least 1500 images per class. (more images should lead to better detection performance) \n",
    "\n",
    "\n",
    "<!--\n",
    "* When you follow the steps on the given website you should be aware to downscale the suggested network to be able to train, you can actually train all the 10 classes on the given Cifar dataset on the jetson with a downscaled CNN!\n",
    "--> \n",
    "\n",
    "* Show the output of the different (training) steps and the resulting classification and answer the related questions in the subsections below\n",
    "\n",
    "\n",
    "\n",
    "\n",
    "\n",
    " \n",
    "\n",
    "\n"
   ]
  },
  {
   "cell_type": "markdown",
   "metadata": {
    "id": "OOH78U5DpU5k"
   },
   "source": [
    "# Initialization\n",
    "\n",
    "load all needed libraries and functions, \n",
    "check the previous tutorial how to correctly load keras and other modules"
   ]
  },
  {
   "cell_type": "code",
   "execution_count": null,
   "metadata": {
    "id": "Of4Qf_7DpXOS"
   },
   "outputs": [],
   "source": []
  },
  {
   "cell_type": "markdown",
   "metadata": {
    "id": "yWrbNzmtuhKG"
   },
   "source": [
    "# Load dataset & Plot a subset\n",
    "\n",
    "load your dataset and show a plot of the subset of your data\n",
    "\n",
    "> Just remember that you must use at least 3 classes and at most 10 classes, so, in the case of the cifar10, if you decide to use 5 classes, then get rid of the other 5 to save space. In other words, choose a dataset, check the images (amount, size in pixels) and implement the steps needed shown in the provided notebook. "
   ]
  },
  {
   "cell_type": "code",
   "execution_count": null,
   "metadata": {
    "id": "kTZNxjTkul9u"
   },
   "outputs": [],
   "source": []
  },
  {
   "cell_type": "markdown",
   "metadata": {
    "id": "O-P5qhvGumPu"
   },
   "source": [
    "# Prepare Pixel Data\n",
    "\n",
    "pre-process your raw input data... rescale... normalize...."
   ]
  },
  {
   "cell_type": "code",
   "execution_count": null,
   "metadata": {
    "id": "Z1u8MMVYupNb"
   },
   "outputs": [],
   "source": []
  },
  {
   "cell_type": "markdown",
   "metadata": {
    "id": "Yal9uYElv_nU"
   },
   "source": [
    "## Define your Model\n",
    "\n",
    "This is the crucial part of the assignment! \n",
    "\n",
    "We do not expect that you can/should develop your own network model, so you can take the suggested model as decribed on [the given website](https://machinelearningmastery.com/how-to-develop-a-cnn-from-scratch-for-cifar-10-photo-classification/).....but \n",
    "\n",
    "\n",
    "**NOTE:**\n",
    "\n",
    "If you run into memory and processing limitations you can reduce the amount of convolutions and dense layers, you can reduce the amount of classes, you can reduce the amount of input images, or the input images size. With a scaled down network the accuracy will be lower then with a more complex network. \n",
    "\n",
    "\n",
    "* How is your model constructed, how many trainable parameters does it have, and where are they located?"
   ]
  },
  {
   "cell_type": "code",
   "execution_count": null,
   "metadata": {
    "id": "HZTFT_GJv_3N"
   },
   "outputs": [],
   "source": []
  },
  {
   "cell_type": "markdown",
   "metadata": {
    "id": "t5t5_38HupW3"
   },
   "source": [
    "# Fit the Model\n",
    "\n",
    "Fitting the model is the time consuming part, this depend on the complexity of the model and the amount of training data.\n",
    "In the fitting process the model is first build up in memory with all the tunable parameters and intercomnnects (with random start values). This is also the limitation of some systems, all these parameters are stored in memory (or when not fitting in a swap file)\n",
    "\n",
    "**TIP:** do not start the first time with training a lot of epochs, first see if this and all following steps in your system work and when you are sure that all works train your final model. \n",
    "\n",
    "* Which batch size and how many epochs give a good result?"
   ]
  },
  {
   "cell_type": "code",
   "execution_count": null,
   "metadata": {
    "id": "rycO-mp9uscG"
   },
   "outputs": [],
   "source": []
  },
  {
   "cell_type": "markdown",
   "metadata": {
    "id": "WdzrdzNeusno"
   },
   "source": [
    "# Evaluate Model\n",
    "\n",
    "Show the model accuracy after the training process ... \n",
    "* How accurate is your final model?"
   ]
  },
  {
   "cell_type": "code",
   "execution_count": null,
   "metadata": {
    "id": "7Vk7p7YnuvR_"
   },
   "outputs": [],
   "source": []
  },
  {
   "cell_type": "markdown",
   "metadata": {
    "id": "PRjQRnYluvaH"
   },
   "source": [
    "# learning curves\n",
    "\n",
    "Show the learning curves of your training sequence, of accuracy, value_accuracy and loss, value_loss\n",
    "\n",
    "* Explain what the difference is between the therms accuracy and value_accuracy? (what do they represent)"
   ]
  },
  {
   "cell_type": "code",
   "execution_count": null,
   "metadata": {
    "id": "KhWeZxmauyCe"
   },
   "outputs": [],
   "source": []
  },
  {
   "cell_type": "markdown",
   "metadata": {
    "id": "l8a1ovA8uyMX"
   },
   "source": [
    "# Save model\n",
    "\n",
    "Save the model for later usage"
   ]
  },
  {
   "cell_type": "code",
   "execution_count": null,
   "metadata": {
    "id": "quPWuPwtu3s4"
   },
   "outputs": [],
   "source": []
  },
  {
   "cell_type": "markdown",
   "metadata": {
    "id": "BbK5-OQ4u32A"
   },
   "source": [
    "# Evaluate Final Model\n",
    "\n",
    "After training and saving the model you can deploy this model on any given input image. You can start a new application in where you import this model and apply it on any given imput images, so you can just load the model and don't need the timeconsuming training anymore."
   ]
  },
  {
   "cell_type": "code",
   "execution_count": null,
   "metadata": {
    "id": "zy3j_jLn4I6u"
   },
   "outputs": [],
   "source": []
  },
  {
   "cell_type": "markdown",
   "metadata": {
    "id": "uqEeHGjG3fsd"
   },
   "source": [
    "## Make Prediction\n",
    "\n",
    "We can use our saved model to make a prediction on new images that are not trained on... make sure the input images receive the same pre-processing as the images you trained on.\n",
    "\n",
    "So fetch some images from the internet (similar classes, but not from your dataset), prepare them to fit your network and classify them. Do this for  **10 images per class** and show the results!\n",
    "\n",
    "* How good is the detection on you real dataset? (show some statistics) "
   ]
  },
  {
   "cell_type": "code",
   "execution_count": null,
   "metadata": {
    "id": "cNpwYE5Ru8gn"
   },
   "outputs": [],
   "source": []
  }
 ],
 "metadata": {
  "colab": {
   "private_outputs": true,
   "provenance": []
  },
  "kernelspec": {
   "display_name": "Python 3 (ipykernel)",
   "language": "python",
   "name": "python3"
  },
  "language_info": {
   "codemirror_mode": {
    "name": "ipython",
    "version": 3
   },
   "file_extension": ".py",
   "mimetype": "text/x-python",
   "name": "python",
   "nbconvert_exporter": "python",
   "pygments_lexer": "ipython3",
   "version": "3.9.7"
  }
 },
 "nbformat": 4,
 "nbformat_minor": 1
}
