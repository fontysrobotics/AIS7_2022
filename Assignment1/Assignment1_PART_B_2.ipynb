{
  "cells": [
    {
      "cell_type": "markdown",
      "metadata": {
        "id": "YN-ZzSPFEQRg"
      },
      "source": [
        "# Assignment 1 - Part B2: Working with you own data \n",
        "\n",
        "In this assignment you will create you own dataset for classification. You will explore which ML algorithms are best to classify this and you will present your best solution. \n",
        "\n",
        "### Generating your dataset:\n",
        "\n",
        "For this assignment you will create your own dataset of motions that you collect with an Accelerometer and Gyroscope. For this you can use your phone as a sensor.\n",
        "To be able to collect your data you can best use an app called [phyphox](https://phyphox.org/), this is a free app available in app stores. This app can be configured to acces your sensordata, sample it as given frequency's. you can set it up te have experiment timeslots, and the data with a timestamp can be exported to a needed output format.\n",
        "\n",
        "![](https://phyphox.org/wp-content/uploads/2019/06/phyphox_dark-1024x274.png)\n",
        "\n",
        "When you installed the app you can setup a custum experiment by clicking on the + button. Define an experiment name, sample frequency and activate the Accelerometer and Gyroscope. Your custom experiment will be added, you can run it pressing the play button and you will see sensor motion. Pressing the tree dots (...) lets you define timed runs, remote access and exporting data.\n",
        "\n",
        "### steps\n",
        "\n",
        "With your own generated dataset the similar sequence of steps should be taken to train your model.\n",
        "\n",
        "These are the generic steps to be taken\n",
        "1. Frame the problem and look at the big picture.\n",
        "2. Get the data.\n",
        "3. Explore the data to gain insights.\n",
        "4. Prepare the data to better expose the underlying data patterns to Machine Learning algorithms\n",
        "5. Explore many different models and short-list the best ones.\n",
        "6. Fine-tune your models and combine them into a great solution.\n",
        "7. Present your solution.\n",
        "8. Launch, monitor, and maintain your system.\n",
        "9. Additional Questions\n",
        "\n",
        "\n",
        "---\n",
        "In the Notebook this structure is used for dividing the different steps, so make sure you do the implementation and analisis at these location in the notebook. \n",
        "\n",
        "You may add additinal code blocks, but keep the seperation of the given structure.\n",
        "\n",
        "At the end of each block summarize / comment / conclude your current step in the given textblocks.\n",
        "\n",
        "\n",
        "### Hints\n",
        "\n",
        "Additional info can be found in the tips and trick document"
      ]
    },
    {
      "cell_type": "markdown",
      "metadata": {
        "id": "HVvVxhvpne6O"
      },
      "source": [
        "```\n",
        "# INSERT YOUR NAMES \n",
        "```\n"
      ]
    },
    {
      "cell_type": "markdown",
      "metadata": {
        "id": "dVhu3sWzEQRv"
      },
      "source": [
        "# 1. Frame the problem and look at the big picture\n",
        "Describe the problem at hand and explain your approach"
      ]
    },
    {
      "cell_type": "markdown",
      "metadata": {
        "id": "TDdDUEHGgRe_"
      },
      "source": [
        "```\n",
        "# Place your comments / conclusions / insight here\n",
        "```\n"
      ]
    },
    {
      "cell_type": "markdown",
      "metadata": {
        "id": "RkPzAWZ6d2PY"
      },
      "source": [
        "# 2. Get the data.\n",
        "\n",
        "Initialize the system, get all needed libraries, retreive the data and import it\n",
        "\n",
        "> Create your own dataset\n",
        "\n",
        "> Explain and show (with a few images) which motions you are classifing, how you generated them, what the problems where you encountered in this process! \n"
      ]
    },
    {
      "cell_type": "code",
      "execution_count": null,
      "metadata": {
        "id": "zP8ihRoAd_oY"
      },
      "outputs": [],
      "source": [
        "# YOUR CODE HERE "
      ]
    },
    {
      "cell_type": "markdown",
      "metadata": {
        "id": "phXQcbhjjc8E"
      },
      "source": [
        "```\n",
        "# Place your comments / conclusions / insight here\n",
        "```\n"
      ]
    },
    {
      "cell_type": "markdown",
      "metadata": {
        "id": "0v8cn-1reCYH"
      },
      "source": [
        "# 3. Explore the data to gain insights.\n",
        "\n",
        "Explore the data in any possible way, visualize the results (if you have multiple plots of the same kind of data put them in one larger plot)"
      ]
    },
    {
      "cell_type": "code",
      "execution_count": null,
      "metadata": {
        "id": "RlhsbvzBeG4E"
      },
      "outputs": [],
      "source": [
        "# YOUR CODE HERE "
      ]
    },
    {
      "cell_type": "markdown",
      "metadata": {
        "id": "PZs7EkHfjhT9"
      },
      "source": [
        "```\n",
        "# Place your comments / conclusions / insight here\n",
        "```\n"
      ]
    },
    {
      "cell_type": "markdown",
      "metadata": {
        "id": "U5kdsQwneWZ7"
      },
      "source": [
        "# 4. Prepare the data to better expose the underlying data patterns to Machine Learning algorithms\n",
        "\n",
        "prepare your data, is it normalized? are there outlier? Make a training and a test set."
      ]
    },
    {
      "cell_type": "code",
      "execution_count": null,
      "metadata": {
        "id": "b0yqpHJUfUa5"
      },
      "outputs": [],
      "source": [
        "# YOUR CODE HERE "
      ]
    },
    {
      "cell_type": "markdown",
      "metadata": {
        "id": "Nz04fD0bjls1"
      },
      "source": [
        "```\n",
        "# Place your comments / conclusions / insight here\n",
        "```\n"
      ]
    },
    {
      "cell_type": "markdown",
      "metadata": {
        "id": "VY_GYjQSfWnF"
      },
      "source": [
        "# 5. Explore many different models and short-list the best ones.\n",
        "\n",
        "Explore / train and list the top 3 algorithms that score best on this dataset."
      ]
    },
    {
      "cell_type": "code",
      "execution_count": null,
      "metadata": {
        "id": "lAz7LbB2feBt"
      },
      "outputs": [],
      "source": [
        "# YOUR CODE HERE "
      ]
    },
    {
      "cell_type": "markdown",
      "metadata": {
        "id": "gwv3xz1wjows"
      },
      "source": [
        "```\n",
        "# Place your comments / conclusions / insight here\n",
        "```\n"
      ]
    },
    {
      "cell_type": "markdown",
      "metadata": {
        "id": "IIL2-EUJffYV"
      },
      "source": [
        "# 6. Fine-tune your models and combine them into a great solution.\n",
        "\n",
        "can you get better performance within a model? e.g if you use a KNN classifier how does it behave if you change K (k=3 vs k=5 vs k=?). Which parameters are here to tune in the chosen models? "
      ]
    },
    {
      "cell_type": "code",
      "execution_count": null,
      "metadata": {
        "id": "2bG5g80NfpMk"
      },
      "outputs": [],
      "source": [
        "# YOUR CODE HERE "
      ]
    },
    {
      "cell_type": "markdown",
      "metadata": {
        "id": "yvWBlVKeklAE"
      },
      "source": [
        "```\n",
        "# Place your comments / conclusions / insight here\n",
        "```\n"
      ]
    },
    {
      "cell_type": "markdown",
      "metadata": {
        "id": "mvnEhvXwfrlm"
      },
      "source": [
        "# 7. Present your solution.\n",
        "\n",
        "Explain why you would choose for a specific model"
      ]
    },
    {
      "cell_type": "code",
      "execution_count": null,
      "metadata": {
        "id": "A6NTnFVCfww-"
      },
      "outputs": [],
      "source": [
        "# YOUR CODE HERE "
      ]
    },
    {
      "cell_type": "markdown",
      "metadata": {
        "id": "82zdBc53kmb4"
      },
      "source": [
        "```\n",
        "# Place your comments / conclusions / insight here\n",
        "```\n"
      ]
    },
    {
      "cell_type": "markdown",
      "metadata": {
        "id": "X1hc2Ffofz79"
      },
      "source": [
        "# 8. Launch, monitor, and maintain your system.\n",
        "\n",
        "Can you Deployment the model?\n",
        "\n",
        "> NOTE: The app provides the option for remote access, so you are able to get live sensordata from the phone"
      ]
    },
    {
      "cell_type": "markdown",
      "metadata": {
        "id": "iJ1uQFlood1G"
      },
      "source": [
        "# 9. Additional Questions\n",
        "\n",
        "* Explain the chosen motions you chose to be classified. \n",
        "\n",
        "* Which of these motions is easier/harder to classify and why?\n",
        "\n",
        "* After your experience, which extra sensor data might help getting a better classifier and why?\n",
        "\n",
        "* Explain why you think that your chosen algorithm outperforms the rest? \n",
        "\n",
        "* While recording the same motions with the same sensor data, what do you think will help improving the performance of your models?\n"
      ]
    },
    {
      "cell_type": "markdown",
      "metadata": {
        "id": "vi5EGcnIoiyL"
      },
      "source": [
        "```\n",
        "# Place your comments / conclusions / insight here\n",
        "```\n"
      ]
    }
  ],
  "metadata": {
    "colab": {
      "name": "comparing-classifiers.ipynb",
      "provenance": []
    },
    "kernelspec": {
      "display_name": "Python 3",
      "language": "python",
      "name": "python3"
    },
    "language_info": {
      "codemirror_mode": {
        "name": "ipython",
        "version": 3
      },
      "file_extension": ".py",
      "mimetype": "text/x-python",
      "name": "python",
      "nbconvert_exporter": "python",
      "pygments_lexer": "ipython3",
      "version": "3.7.6"
    }
  },
  "nbformat": 4,
  "nbformat_minor": 0
}
