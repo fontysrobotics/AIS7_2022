{
  "nbformat": 4,
  "nbformat_minor": 0,
  "metadata": {
    "kernelspec": {
      "display_name": "Python 3",
      "language": "python",
      "name": "python3"
    },
    "language_info": {
      "codemirror_mode": {
        "name": "ipython",
        "version": 3
      },
      "file_extension": ".py",
      "mimetype": "text/x-python",
      "name": "python",
      "nbconvert_exporter": "python",
      "pygments_lexer": "ipython3",
      "version": "3.7.6"
    },
    "colab": {
      "name": "comparing-classifiers.ipynb",
      "provenance": []
    }
  },
  "cells": [
    {
      "cell_type": "markdown",
      "metadata": {
        "id": "YN-ZzSPFEQRg"
      },
      "source": [
        "# Assignment 1 - Part A\n",
        "\n",
        "In this assignment you will import and explore/analyze a **Wine dataset** for classification. You will explore which ML algorithms are best to classify this and you will present your best solution. \n",
        "You already worked your way through a few tutorials and her you can integrate your learned knowledge\n",
        "\n",
        "For this assignment you will use the **Wine dataset** that is on of the smaller classification datasets that are implemented in sklearn https://scikit-learn.org/stable/datasets/toy_dataset.html\n",
        "(Next assignment we will use a larger real-world dataset)\n",
        "\n",
        "These are the generic steps to be taken\n",
        "1. Frame the problem and look at the big picture.\n",
        "2. Get the data.\n",
        "3. Explore the data to gain insights.\n",
        "4. Prepare the data to better expose the underlying data patterns to Machine Learning algorithms\n",
        "5. Explore many different models and short-list the best ones.\n",
        "6. Fine-tune your models and combine them into a great solution.\n",
        "7. Present your solution.\n",
        "8. Launch, monitor, and maintain your system.\n",
        "9. Additional Questions\n",
        "\n",
        "In the Notebook this structure is used for dividing the different steps, so make sure you do the implementation and analisis at these location in the notebook. \n",
        "\n",
        "You may add additinal code blocks, but keep the seperation of the given structure.\n",
        "\n",
        "At the end of each block summarize / comment / conclude your current step in the given textblocks.\n",
        "\n",
        "At the end you have to hand in this notebook together with the notebook of part B, when you hand it in you should make sure that you saved it with all output visible. So we can evaluate your notebooks output without directly ruinning it.\n",
        "In addition (to be sure) you should also save a pdf of the final result.\n"
      ]
    },
    {
      "cell_type": "markdown",
      "metadata": {
        "id": "HVvVxhvpne6O"
      },
      "source": [
        "```\n",
        "# INSERT YOUR NAMES \n",
        "```\n"
      ]
    },
    {
      "cell_type": "markdown",
      "metadata": {
        "id": "dVhu3sWzEQRv"
      },
      "source": [
        "# 1. Frame the problem and look at the big picture\n",
        "Describe the problem at hand and explain your approach"
      ]
    },
    {
      "cell_type": "markdown",
      "metadata": {
        "id": "TDdDUEHGgRe_"
      },
      "source": [
        "```\n",
        "# Place your comments / conclusions / insight here\n",
        "```\n"
      ]
    },
    {
      "cell_type": "markdown",
      "metadata": {
        "id": "RkPzAWZ6d2PY"
      },
      "source": [
        "# 2. Get the data.\n",
        "\n",
        "Initialize the system, get all needed libraries, retreive the data and import it"
      ]
    },
    {
      "cell_type": "code",
      "metadata": {
        "id": "zP8ihRoAd_oY"
      },
      "source": [
        "# YOUR CODE HERE "
      ],
      "execution_count": null,
      "outputs": []
    },
    {
      "cell_type": "markdown",
      "metadata": {
        "id": "phXQcbhjjc8E"
      },
      "source": [
        "```\n",
        "# Place your comments / conclusions / insight here\n",
        "```\n"
      ]
    },
    {
      "cell_type": "markdown",
      "metadata": {
        "id": "0v8cn-1reCYH"
      },
      "source": [
        "# 3. Explore the data to gain insights.\n",
        "\n",
        "Explore the data in any possible way, visualize the results (if you have multiple plots of the same kind of data put them in one larger plot)"
      ]
    },
    {
      "cell_type": "code",
      "metadata": {
        "id": "RlhsbvzBeG4E"
      },
      "source": [
        "# YOUR CODE HERE "
      ],
      "execution_count": null,
      "outputs": []
    },
    {
      "cell_type": "markdown",
      "metadata": {
        "id": "PZs7EkHfjhT9"
      },
      "source": [
        "```\n",
        "# Place your comments / conclusions / insight here\n",
        "```\n"
      ]
    },
    {
      "cell_type": "markdown",
      "metadata": {
        "id": "U5kdsQwneWZ7"
      },
      "source": [
        "# 4. Prepare the data to better expose the underlying data patterns to Machine Learning algorithms\n",
        "\n",
        "prepare your data, is it normalized? are there outlier? Make a training and a test set."
      ]
    },
    {
      "cell_type": "code",
      "metadata": {
        "id": "b0yqpHJUfUa5"
      },
      "source": [
        "# YOUR CODE HERE "
      ],
      "execution_count": null,
      "outputs": []
    },
    {
      "cell_type": "markdown",
      "metadata": {
        "id": "Nz04fD0bjls1"
      },
      "source": [
        "```\n",
        "# Place your comments / conclusions / insight here\n",
        "```\n"
      ]
    },
    {
      "cell_type": "markdown",
      "metadata": {
        "id": "VY_GYjQSfWnF"
      },
      "source": [
        "# 5. Explore many different models and short-list the best ones.\n",
        "\n",
        "Explore / train and list the top 3 algorithms that score best on this dataset."
      ]
    },
    {
      "cell_type": "code",
      "metadata": {
        "id": "lAz7LbB2feBt"
      },
      "source": [
        "# YOUR CODE HERE "
      ],
      "execution_count": null,
      "outputs": []
    },
    {
      "cell_type": "markdown",
      "metadata": {
        "id": "gwv3xz1wjows"
      },
      "source": [
        "```\n",
        "# Place your comments / conclusions / insight here\n",
        "```\n"
      ]
    },
    {
      "cell_type": "markdown",
      "metadata": {
        "id": "IIL2-EUJffYV"
      },
      "source": [
        "# 6. Fine-tune your models and combine them into a great solution.\n",
        "\n",
        "can you get better performance within a model? e.g if you use a KNN classifier how does it behave if you change K (k=3 vs k=5 vs k=?). Which parameters are here to tune in the chosen models? "
      ]
    },
    {
      "cell_type": "code",
      "metadata": {
        "id": "2bG5g80NfpMk"
      },
      "source": [
        "# YOUR CODE HERE "
      ],
      "execution_count": null,
      "outputs": []
    },
    {
      "cell_type": "markdown",
      "metadata": {
        "id": "yvWBlVKeklAE"
      },
      "source": [
        "```\n",
        "# Place your comments / conclusions / insight here\n",
        "```\n"
      ]
    },
    {
      "cell_type": "markdown",
      "metadata": {
        "id": "mvnEhvXwfrlm"
      },
      "source": [
        "# 7. Present your solution.\n",
        "\n",
        "Explain why you would choose for a specific model"
      ]
    },
    {
      "cell_type": "code",
      "metadata": {
        "id": "A6NTnFVCfww-"
      },
      "source": [
        "# YOUR CODE HERE "
      ],
      "execution_count": null,
      "outputs": []
    },
    {
      "cell_type": "markdown",
      "metadata": {
        "id": "82zdBc53kmb4"
      },
      "source": [
        "```\n",
        "# Place your comments / conclusions / insight here\n",
        "```\n"
      ]
    },
    {
      "cell_type": "markdown",
      "metadata": {
        "id": "X1hc2Ffofz79"
      },
      "source": [
        "# 8. Launch, monitor, and maintain your system.\n",
        "\n",
        "Deployment we will do in the next assignment!"
      ]
    },
    {
      "cell_type": "markdown",
      "metadata": {
        "id": "iJ1uQFlood1G"
      },
      "source": [
        "# 9. Additional Questions\n",
        "\n",
        "* Explain in detail how you think that the top 3 chosen algorithms work?\n",
        "* Explain why you think that your chosen algorithm outperforms the rest? "
      ]
    },
    {
      "cell_type": "markdown",
      "metadata": {
        "id": "vi5EGcnIoiyL"
      },
      "source": [
        "```\n",
        "# Place your comments / conclusions / insight here\n",
        "```\n"
      ]
    }
  ]
}