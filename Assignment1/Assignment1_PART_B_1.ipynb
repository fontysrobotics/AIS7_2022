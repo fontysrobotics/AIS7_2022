{
  "nbformat": 4,
  "nbformat_minor": 0,
  "metadata": {
    "kernelspec": {
      "display_name": "Python 3",
      "language": "python",
      "name": "python3"
    },
    "language_info": {
      "codemirror_mode": {
        "name": "ipython",
        "version": 3
      },
      "file_extension": ".py",
      "mimetype": "text/x-python",
      "name": "python",
      "nbconvert_exporter": "python",
      "pygments_lexer": "ipython3",
      "version": "3.7.6"
    },
    "colab": {
      "name": "Assignment1_PART_B_1.ipynb",
      "provenance": []
    }
  },
  "cells": [
    {
      "cell_type": "markdown",
      "metadata": {
        "id": "YN-ZzSPFEQRg"
      },
      "source": [
        "# Assignment 1 - Part B.1: working with real data\n",
        "\n",
        "In this assignment you will import and explore/analyze a dataset for classification. You will explore which ML algorithms are best to classify this and you will present your best solution. For this assignment we will use Human Activity dataset:\n",
        "\n",
        "### Description of the dataset:\n",
        "\n",
        "The Human Activity Recognition database was built from the recordings of 30 study participants performing activities of daily living (ADL) while carrying a waist-mounted smartphone with embedded inertial sensors. The objective is to classify activities into one of the six activities performed.\n",
        "\n",
        "[![IMAGE ALT TEXT HERE](https://img.youtube.com/vi/XOEN9W05_4A/0.jpg)](https://www.youtube.com/watch?v=XOEN9W05_4A)\n",
        "\n",
        "https://youtu.be/XOEN9W05_4A\n",
        "\n",
        "\n",
        "The experiments have been carried out with a group of 30 volunteers within an age bracket of 19-48 years. Each person performed six activities (WALKING, WALKINGUPSTAIRS, WALKINGDOWNSTAIRS, SITTING, STANDING, LAYING) wearing a smartphone (Samsung Galaxy S II) on the waist. Using its embedded accelerometer and gyroscope, we captured 3-axial linear acceleration and 3-axial angular velocity at a constant rate of 50Hz. The experiments have been video-recorded to label the data manually. The obtained dataset has been randomly partitioned into two sets, where 70% of the volunteers was selected for generating the training data and 30% the test data.\n",
        "\n",
        "The sensor signals (accelerometer and gyroscope) were pre-processed by applying noise filters. From the procecced input sensors a 561-feature vector with time and frequency domain variables is generated.\n",
        "For more details see: https://www.kaggle.com/uciml/human-activity-recognition-with-smartphones\n",
        "\n",
        "> NOTE: we have downloaded this dataset already for you and placed it on the github as HAR.zip\n",
        "\n",
        "### Steps\n",
        "\n",
        "In this assignment you will analyze the data, train and evaluate a model based on this dataset. \n",
        "\n",
        "These are the generic steps to be taken\n",
        "1. Frame the problem and look at the big picture.\n",
        "2. Get the data.\n",
        "3. Explore the data to gain insights.\n",
        "4. Prepare the data to better expose the underlying data patterns to Machine Learning algorithms\n",
        "5. Explore many different models and short-list the best ones.\n",
        "6. Fine-tune your models and combine them into a great solution.\n",
        "7. Present your solution.\n",
        "8. Launch, monitor, and maintain your system.\n",
        "9. Additional Questions\n",
        "\n",
        "\n",
        "\n",
        "----\n",
        "\n",
        "In the Notebook this structure is used for dividing the different steps, so make sure you do the implementation and analisis at these location in the notebook. \n",
        "\n",
        "You may add additinal code blocks, but keep the seperation of the given structure.\n",
        "\n",
        "At the end of each block summarize / comment / conclude your current step in the given textblocks.\n",
        "\n",
        "At the end you have to hand in this notebook together with the notebooks of Assignment 1, when you hand it in you should make sure that you saved it with all output visible. So we can evaluate your notebooks output without directly ruinning it.\n",
        "In addition (to be sure) you should also save a pdf of the final result.\n",
        "\n",
        "----\n",
        "\n",
        "### Hints\n",
        "\n",
        "The needed dataset is available in our github repository (HAR.zip), how to download this from your notebook and addition hints are available in the Tips & Tricks file"
      ]
    },
    {
      "cell_type": "markdown",
      "metadata": {
        "id": "_2O7erdjJfc1"
      },
      "source": [
        ""
      ]
    },
    {
      "cell_type": "markdown",
      "metadata": {
        "id": "HVvVxhvpne6O"
      },
      "source": [
        "```\n",
        "# INSERT YOUR NAMES \n",
        "```\n"
      ]
    },
    {
      "cell_type": "markdown",
      "metadata": {
        "id": "dVhu3sWzEQRv"
      },
      "source": [
        "# 1. Frame the problem and look at the big picture\n",
        "Describe the problem at hand and explain your approach"
      ]
    },
    {
      "cell_type": "markdown",
      "metadata": {
        "id": "TDdDUEHGgRe_"
      },
      "source": [
        "```\n",
        "# Place your comments / conclusions / insight here\n",
        "```\n"
      ]
    },
    {
      "cell_type": "markdown",
      "metadata": {
        "id": "RkPzAWZ6d2PY"
      },
      "source": [
        "# 2. Get the data.\n",
        "\n",
        "Initialize the system, get all needed libraries, retreive the data and import it\n",
        "\n",
        "> NOTE: You can download the dataset directly from github, see Tips & Tricks"
      ]
    },
    {
      "cell_type": "code",
      "metadata": {
        "id": "zP8ihRoAd_oY"
      },
      "source": [
        "# YOUR CODE HERE "
      ],
      "execution_count": null,
      "outputs": []
    },
    {
      "cell_type": "markdown",
      "metadata": {
        "id": "phXQcbhjjc8E"
      },
      "source": [
        "```\n",
        "# Place your comments / conclusions / insight here\n",
        "```\n"
      ]
    },
    {
      "cell_type": "markdown",
      "metadata": {
        "id": "0v8cn-1reCYH"
      },
      "source": [
        "# 3. Explore the data to gain insights.\n",
        "\n",
        "Explore the data in any possible way, visualize the results (if you have multiple plots of the same kind of data put them in one larger plot)\n",
        "\n",
        "> NOTE:You can visualize high-dimensional data in 2-d using T-distributed Stochastic Neighbor Embedding, see Tips & Tricks. (You can also visualze it in 3D, as described in the tutorial)\n",
        "\n"
      ]
    },
    {
      "cell_type": "code",
      "metadata": {
        "id": "RlhsbvzBeG4E"
      },
      "source": [
        "# YOUR CODE HERE "
      ],
      "execution_count": null,
      "outputs": []
    },
    {
      "cell_type": "markdown",
      "metadata": {
        "id": "PZs7EkHfjhT9"
      },
      "source": [
        "```\n",
        "# Place your comments / conclusions / insight here\n",
        "```\n"
      ]
    },
    {
      "cell_type": "markdown",
      "metadata": {
        "id": "U5kdsQwneWZ7"
      },
      "source": [
        "# 4. Prepare the data to better expose the underlying data patterns to Machine Learning algorithms\n",
        "\n",
        "prepare your data, is it normalized? are there outlier? Make a training and a test set.\n"
      ]
    },
    {
      "cell_type": "code",
      "metadata": {
        "id": "b0yqpHJUfUa5"
      },
      "source": [
        "# YOUR CODE HERE "
      ],
      "execution_count": null,
      "outputs": []
    },
    {
      "cell_type": "markdown",
      "metadata": {
        "id": "Nz04fD0bjls1"
      },
      "source": [
        "```\n",
        "# Place your comments / conclusions / insight here\n",
        "```\n"
      ]
    },
    {
      "cell_type": "markdown",
      "metadata": {
        "id": "VY_GYjQSfWnF"
      },
      "source": [
        "# 5. Explore many different models and short-list the best ones.\n",
        "\n",
        "Explore / train and list the top 3 algorithms that score best on this dataset."
      ]
    },
    {
      "cell_type": "code",
      "metadata": {
        "id": "lAz7LbB2feBt"
      },
      "source": [
        "# YOUR CODE HERE "
      ],
      "execution_count": null,
      "outputs": []
    },
    {
      "cell_type": "markdown",
      "metadata": {
        "id": "gwv3xz1wjows"
      },
      "source": [
        "```\n",
        "# Place your comments / conclusions / insight here\n",
        "```\n"
      ]
    },
    {
      "cell_type": "markdown",
      "metadata": {
        "id": "IIL2-EUJffYV"
      },
      "source": [
        "# 6. Fine-tune your models and combine them into a great solution.\n",
        "\n",
        "can you get better performance within a model? e.g if you use a KNN classifier how does it behave if you change K (k=3 vs k=5 vs k=?). Which parameters are here to tune in the chosen models? "
      ]
    },
    {
      "cell_type": "code",
      "metadata": {
        "id": "2bG5g80NfpMk"
      },
      "source": [
        "# YOUR CODE HERE "
      ],
      "execution_count": null,
      "outputs": []
    },
    {
      "cell_type": "markdown",
      "metadata": {
        "id": "yvWBlVKeklAE"
      },
      "source": [
        "```\n",
        "# Place your comments / conclusions / insight here\n",
        "```\n"
      ]
    },
    {
      "cell_type": "markdown",
      "metadata": {
        "id": "mvnEhvXwfrlm"
      },
      "source": [
        "# 7. Present your solution.\n",
        "\n",
        "Explain why you would choose for a specific model\n",
        "\n"
      ]
    },
    {
      "cell_type": "code",
      "metadata": {
        "id": "A6NTnFVCfww-"
      },
      "source": [
        "# YOUR CODE HERE "
      ],
      "execution_count": null,
      "outputs": []
    },
    {
      "cell_type": "markdown",
      "metadata": {
        "id": "82zdBc53kmb4"
      },
      "source": [
        "```\n",
        "# Place your comments / conclusions / insight here\n",
        "```\n"
      ]
    },
    {
      "cell_type": "markdown",
      "metadata": {
        "id": "X1hc2Ffofz79"
      },
      "source": [
        "# 8. Launch, monitor, and maintain your system.\n",
        "\n",
        "Deployment we will do in the next assignment!"
      ]
    },
    {
      "cell_type": "markdown",
      "metadata": {
        "id": "iJ1uQFlood1G"
      },
      "source": [
        "# 9. Additional Questions\n",
        "\n",
        "\n",
        "* Explain which classes should be easy / challenging to classify based on your  2/3D plots the data? \n",
        "\n",
        "* Explain what specifics you did to this dataset for preparing your data? \n",
        "\n",
        "* Explain why you think that your chosen algorithm outperforms the rest? \n"
      ]
    },
    {
      "cell_type": "markdown",
      "metadata": {
        "id": "vi5EGcnIoiyL"
      },
      "source": [
        "```\n",
        "# Place your comments / conclusions / insight here\n",
        "```\n"
      ]
    }
  ]
}