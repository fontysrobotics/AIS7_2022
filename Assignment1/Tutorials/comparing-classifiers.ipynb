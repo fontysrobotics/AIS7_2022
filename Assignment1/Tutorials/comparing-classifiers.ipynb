{
  "nbformat": 4,
  "nbformat_minor": 0,
  "metadata": {
    "kernelspec": {
      "display_name": "Python 3",
      "language": "python",
      "name": "python3"
    },
    "language_info": {
      "codemirror_mode": {
        "name": "ipython",
        "version": 3
      },
      "file_extension": ".py",
      "mimetype": "text/x-python",
      "name": "python",
      "nbconvert_exporter": "python",
      "pygments_lexer": "ipython3",
      "version": "3.7.6"
    },
    "colab": {
      "name": "comparing-classifiers.ipynb",
      "provenance": []
    }
  },
  "cells": [
    {
      "cell_type": "markdown",
      "metadata": {
        "id": "YN-ZzSPFEQRg"
      },
      "source": [
        "# Comparing Classifiers for Building Classification Models\n",
        "\n",
        "In this Jupyter notebook, we will be comparing the performance of different classifiers for building classification models.\n",
        "\n",
        "[![IMAGE ALT TEXT HERE](https://img.youtube.com/vi/QlNjjSge65Y/0.jpg)](https://www.youtube.com/watch?v=QlNjjSge65Y&t=110)\n",
        "\n",
        "\n",
        "\n",
        "Notebook adapted from: Chanin Nantasenamat\n",
        "\n",
        "<i>Data Professor YouTube channel, http://youtube.com/dataprofessor </i>\n",
        "\n"
      ]
    },
    {
      "cell_type": "markdown",
      "metadata": {
        "id": "hYDevsMnEQRk"
      },
      "source": [
        "## 1. Make synthetic dataset"
      ]
    },
    {
      "cell_type": "markdown",
      "metadata": {
        "id": "skDseDrzFnRA"
      },
      "source": [
        "This means we will generate some datapoints ourselves"
      ]
    },
    {
      "cell_type": "markdown",
      "metadata": {
        "id": "NAz5muysEQRk"
      },
      "source": [
        "### 1.1. Import library"
      ]
    },
    {
      "cell_type": "code",
      "metadata": {
        "id": "NHSSUDz5EQRl"
      },
      "source": [
        "from sklearn.datasets import make_classification"
      ],
      "execution_count": null,
      "outputs": []
    },
    {
      "cell_type": "markdown",
      "metadata": {
        "id": "b003pk66EQRm"
      },
      "source": [
        "### 1.2. Generate the dataset"
      ]
    },
    {
      "cell_type": "markdown",
      "metadata": {
        "id": "fsJengNamxu4"
      },
      "source": [
        "Generate a dataset with 1000 datapoints. The dataset has 5 features to that define/destinguish datapoint that can be classified into 2 classes. "
      ]
    },
    {
      "cell_type": "code",
      "metadata": {
        "id": "eerQvfjXEQRm"
      },
      "source": [
        "SAMPLES, CLASSES = make_classification(n_samples=1000, n_classes=2, n_features=5, n_redundant=0, random_state=1)"
      ],
      "execution_count": null,
      "outputs": []
    },
    {
      "cell_type": "markdown",
      "metadata": {
        "id": "CREcwQVnEQRn"
      },
      "source": [
        "### 1.3. Let's examine the data dimension"
      ]
    },
    {
      "cell_type": "markdown",
      "metadata": {
        "id": "VrYCZQMzmlTE"
      },
      "source": [
        "First look at the dimensions of the generated data, then look at the content"
      ]
    },
    {
      "cell_type": "code",
      "metadata": {
        "id": "TuLSyRmEEQRn"
      },
      "source": [
        "SAMPLES.shape"
      ],
      "execution_count": null,
      "outputs": []
    },
    {
      "cell_type": "code",
      "metadata": {
        "id": "mMMk87iTEQRo"
      },
      "source": [
        "CLASSES.shape"
      ],
      "execution_count": null,
      "outputs": []
    },
    {
      "cell_type": "code",
      "metadata": {
        "id": "-Luv44CTl2MM"
      },
      "source": [
        "SAMPLES"
      ],
      "execution_count": null,
      "outputs": []
    },
    {
      "cell_type": "code",
      "metadata": {
        "id": "xROi5YDkmI0E"
      },
      "source": [
        "CLASSES"
      ],
      "execution_count": null,
      "outputs": []
    },
    {
      "cell_type": "markdown",
      "metadata": {
        "id": "CZvtheHcjqUv"
      },
      "source": [
        "Just for visual reference we will plot the generated data of two of the features against eachother. (in this case feature0 vs feature1). The datapoint are given a different collor depending onto their belongin class "
      ]
    },
    {
      "cell_type": "code",
      "metadata": {
        "id": "itQngJHCh4p7"
      },
      "source": [
        "#plotting is done with matplotlib\n",
        "import matplotlib.pyplot as plt\n",
        "\n",
        "plt.scatter(SAMPLES[:, 0], SAMPLES[:, 1], marker=\"o\", s=25, edgecolor=\"k\" , c=CLASSES )\n"
      ],
      "execution_count": null,
      "outputs": []
    },
    {
      "cell_type": "markdown",
      "metadata": {
        "id": "wlCwlRhcEQRp"
      },
      "source": [
        "## 2. Data split (80/20 ratio)"
      ]
    },
    {
      "cell_type": "markdown",
      "metadata": {
        "id": "mDlMbeYWEQRp"
      },
      "source": [
        "### 2.1. Import library"
      ]
    },
    {
      "cell_type": "code",
      "metadata": {
        "id": "Rqr4YsuaEQRp"
      },
      "source": [
        "from sklearn.model_selection import train_test_split"
      ],
      "execution_count": null,
      "outputs": []
    },
    {
      "cell_type": "markdown",
      "metadata": {
        "id": "7OBrGDZIEQRq"
      },
      "source": [
        "### 2.2. Data split"
      ]
    },
    {
      "cell_type": "code",
      "metadata": {
        "id": "LfErRsVPEQRq"
      },
      "source": [
        "X_train, X_test, Y_train, Y_test = train_test_split(SAMPLES, CLASSES, test_size=0.2)"
      ],
      "execution_count": null,
      "outputs": []
    },
    {
      "cell_type": "markdown",
      "metadata": {
        "id": "fmp3XQetEQRq"
      },
      "source": [
        "### 2.3. Let's examine the data dimension"
      ]
    },
    {
      "cell_type": "code",
      "metadata": {
        "id": "A5WP7qNHEQRq"
      },
      "source": [
        "X_train.shape, Y_train.shape"
      ],
      "execution_count": null,
      "outputs": []
    },
    {
      "cell_type": "code",
      "metadata": {
        "id": "IGUZoPt0EQRr"
      },
      "source": [
        "X_test.shape, Y_test.shape"
      ],
      "execution_count": null,
      "outputs": []
    },
    {
      "cell_type": "markdown",
      "metadata": {
        "id": "xX8aSwqtEQRr"
      },
      "source": [
        "## 3. Build Classification Models\n",
        "\n",
        "Modified from: https://scikit-learn.org/stable/auto_examples/classification/plot_classifier_comparison.html"
      ]
    },
    {
      "cell_type": "markdown",
      "metadata": {
        "id": "Zt-IP7mNEQRr"
      },
      "source": [
        "### 3.1. Import modules"
      ]
    },
    {
      "cell_type": "code",
      "metadata": {
        "id": "H54PcOjpEQRr"
      },
      "source": [
        "import pandas as pd\n",
        "\n",
        "from sklearn.neural_network import MLPClassifier\n",
        "from sklearn.neighbors import KNeighborsClassifier\n",
        "from sklearn.svm import SVC\n",
        "from sklearn.gaussian_process import GaussianProcessClassifier\n",
        "from sklearn.ensemble import GradientBoostingClassifier\n",
        "from sklearn.gaussian_process.kernels import RBF\n",
        "from sklearn.tree import DecisionTreeClassifier\n",
        "from sklearn.ensemble import ExtraTreesClassifier\n",
        "from sklearn.ensemble import RandomForestClassifier, AdaBoostClassifier\n",
        "from sklearn.naive_bayes import GaussianNB\n",
        "from sklearn.discriminant_analysis import QuadraticDiscriminantAnalysis\n",
        "from sklearn.linear_model import SGDClassifier"
      ],
      "execution_count": null,
      "outputs": []
    },
    {
      "cell_type": "markdown",
      "metadata": {
        "id": "AK8RI_V0EQRs"
      },
      "source": [
        "### 3.2. Defining learning classifiers"
      ]
    },
    {
      "cell_type": "code",
      "metadata": {
        "id": "FuiR8QOhEQRs"
      },
      "source": [
        "names = [\"Nearest_Neighbors\", \"Linear_SVM\", \"Polynomial_SVM\", \"RBF_SVM\", \"Gaussian_Process\",\n",
        "         \"Gradient_Boosting\", \"Decision_Tree\", \"Extra_Trees\", \"Random_Forest\", \"Neural_Net\", \"AdaBoost\",\n",
        "         \"Naive_Bayes\", \"QDA\", \"SGD\"]\n",
        "\n",
        "classifiers = [\n",
        "    KNeighborsClassifier(3),\n",
        "    SVC(kernel=\"linear\", C=0.025),\n",
        "    SVC(kernel=\"poly\", degree=3, C=0.025),\n",
        "    SVC(kernel=\"rbf\", C=1, gamma=2),\n",
        "    GaussianProcessClassifier(1.0 * RBF(1.0)),\n",
        "    GradientBoostingClassifier(n_estimators=100, learning_rate=1.0),\n",
        "    DecisionTreeClassifier(max_depth=5),\n",
        "    ExtraTreesClassifier(n_estimators=10, min_samples_split=2),\n",
        "    RandomForestClassifier(max_depth=5, n_estimators=100),\n",
        "    MLPClassifier(alpha=1, max_iter=1000),\n",
        "    AdaBoostClassifier(n_estimators=100),\n",
        "    GaussianNB(),\n",
        "    QuadraticDiscriminantAnalysis(),\n",
        "    SGDClassifier(loss=\"hinge\", penalty=\"l2\")]"
      ],
      "execution_count": null,
      "outputs": []
    },
    {
      "cell_type": "markdown",
      "metadata": {
        "id": "KSP-f7TnEQRs"
      },
      "source": [
        "### 3.3. Build Model, Apply Model on Test Data & Record Accuracy Scores"
      ]
    },
    {
      "cell_type": "code",
      "metadata": {
        "id": "2oHedZQnEQRt"
      },
      "source": [
        "scores = []\n",
        "for name, clf in zip(names, classifiers):\n",
        "    clf.fit(X_train, Y_train)\n",
        "    score = clf.score(X_test, Y_test)\n",
        "    scores.append(score)"
      ],
      "execution_count": null,
      "outputs": []
    },
    {
      "cell_type": "code",
      "metadata": {
        "id": "xCOF5UQWEQRt"
      },
      "source": [
        "scores"
      ],
      "execution_count": null,
      "outputs": []
    },
    {
      "cell_type": "markdown",
      "metadata": {
        "id": "eq9NWN7sEQRt"
      },
      "source": [
        "## 4. Analysis of Model Performance"
      ]
    },
    {
      "cell_type": "markdown",
      "metadata": {
        "id": "iH8zaZ07EQRu"
      },
      "source": [
        "### 4.1. Import library"
      ]
    },
    {
      "cell_type": "code",
      "metadata": {
        "id": "TxP8ZNHpEQRu"
      },
      "source": [
        "import pandas as pd\n",
        "# import seaborn as sns"
      ],
      "execution_count": null,
      "outputs": []
    },
    {
      "cell_type": "markdown",
      "metadata": {
        "id": "C8bX0XviEQRu"
      },
      "source": [
        "### 4.2. Create data frame of *model performance*"
      ]
    },
    {
      "cell_type": "code",
      "metadata": {
        "id": "8f1jltEHEQRu"
      },
      "source": [
        "df = pd.DataFrame(index=names)\n",
        "# df['name'] = names\n",
        "df['score'] = scores\n"
      ],
      "execution_count": null,
      "outputs": []
    },
    {
      "cell_type": "code",
      "metadata": {
        "id": "kYZE8EhPmY6I"
      },
      "source": [
        "df "
      ],
      "execution_count": null,
      "outputs": []
    },
    {
      "cell_type": "markdown",
      "metadata": {
        "id": "8P_WqSXWEQRu"
      },
      "source": [
        "### 4.3. Adding colors to the data frame"
      ]
    },
    {
      "cell_type": "code",
      "metadata": {
        "id": "Wo-6md9cHAx5"
      },
      "source": [
        "df.style.background_gradient(cmap='viridis').set_precision(4)"
      ],
      "execution_count": null,
      "outputs": []
    },
    {
      "cell_type": "code",
      "metadata": {
        "scrolled": true,
        "id": "5VzMTusGEQRv"
      },
      "source": [
        "## plotting with seaborn\n",
        "## we don't use seaborn\n",
        "#https://pandas.pydata.org/pandas-docs/stable/user_guide/style.html\n",
        "# cm = sns.light_palette(\"green\", as_cmap=True)\n",
        "# s = df.style.background_gradient(cmap=cm)\n",
        "# s"
      ],
      "execution_count": null,
      "outputs": []
    },
    {
      "cell_type": "markdown",
      "metadata": {
        "id": "QQnOQmctEQRv"
      },
      "source": [
        "### 4.4. Bar plot of model performance"
      ]
    },
    {
      "cell_type": "code",
      "metadata": {
        "id": "ZhYxHaromrlP"
      },
      "source": [
        "#plotting the results in a bar chart\n",
        "\n",
        "#plot horizontal bars, adaptable figure size\n",
        "ax = df.plot.barh(figsize=(6,6)) \n",
        "\n",
        "# place the legend outside the graph\n",
        "ax.legend(bbox_to_anchor=(0.9, 1.0))\n",
        "\n",
        "# lable the axis\n",
        "ax.set_xlabel(\"Algorithm Score\")\n",
        "ax.set_ylabel(\"Algorithms Tested\")\n",
        "\n",
        "\n",
        "# place the resulting scores inside the plot\n",
        "for p in ax.patches:\n",
        "  ax.annotate(str(round(p.get_width(),4)),( 0, p.get_y(),) )"
      ],
      "execution_count": null,
      "outputs": []
    },
    {
      "cell_type": "code",
      "metadata": {
        "scrolled": true,
        "id": "bE9d-riyEQRv"
      },
      "source": [
        "## plotting with seaborn\n",
        "## we don't use seaborn\n",
        "# sns.set(style=\"whitegrid\")\n",
        "# ax = sns.barplot(y=\"name\", x=\"score\", data=df)"
      ],
      "execution_count": null,
      "outputs": []
    },
    {
      "cell_type": "markdown",
      "metadata": {
        "id": "dVhu3sWzEQRv"
      },
      "source": [
        "---"
      ]
    }
  ]
}